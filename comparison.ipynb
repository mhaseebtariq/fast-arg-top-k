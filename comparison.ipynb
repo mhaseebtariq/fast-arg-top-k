{
 "cells": [
  {
   "cell_type": "markdown",
   "metadata": {},
   "source": [
    "### Get the indices of the top K values in an (1-D) array\n",
    "The implementation uses a function compiled using Numba; and is, in some cases, more than <b>50x</b> faster than using numpy.argsort(...)!\n",
    "* The cases where K is really small compared to the size of the array"
   ]
  },
  {
   "cell_type": "code",
   "execution_count": 1,
   "metadata": {},
   "outputs": [],
   "source": [
    "import sys\n",
    "\n",
    "try:\n",
    "    import numpy as np\n",
    "except ImportError:\n",
    "    !{sys.executable} -m pip install numpy==1.17.4\n",
    "try:\n",
    "    import numba as nb\n",
    "except ImportError:\n",
    "    !{sys.executable} -m pip install numba==0.45.1\n",
    "\n",
    "import numpy as np\n",
    "import numba as nb"
   ]
  },
  {
   "cell_type": "code",
   "execution_count": 2,
   "metadata": {},
   "outputs": [],
   "source": [
    "FLOAT_TYPE = np.float32\n",
    "FLOAT_BUFFER = np.finfo(FLOAT_TYPE).resolution\n",
    "\n",
    "K = 100"
   ]
  },
  {
   "cell_type": "code",
   "execution_count": 3,
   "metadata": {},
   "outputs": [],
   "source": [
    "@nb.njit(nb.types.Array(nb.int64, 1, \"A\")(nb.float32[:]))\n",
    "def fast_arg_top_k(array):\n",
    "    \"\"\"\n",
    "    Gets the indices of the top k values in an (1-D) array.\n",
    "    * NOTE: The returned indices are not sorted based on the top values\n",
    "    \"\"\"\n",
    "    sorted_indices = np.zeros((K,), dtype=FLOAT_TYPE)\n",
    "    minimum_index = 0\n",
    "    minimum_index_value = 0\n",
    "    for value in array:\n",
    "        if value > minimum_index_value:\n",
    "            sorted_indices[minimum_index] = value\n",
    "            minimum_index = sorted_indices.argmin()\n",
    "            minimum_index_value = sorted_indices[minimum_index]\n",
    "    # FLOAT_BUFFER = np.finfo(FLOAT_TYPE).resolution\n",
    "    # In some situations, because of different resolution you get k-1 results - this is to avoid that!\n",
    "    minimum_index_value -= FLOAT_BUFFER\n",
    "    return (array >= minimum_index_value).nonzero()[0][::-1][:K]"
   ]
  },
  {
   "cell_type": "code",
   "execution_count": 4,
   "metadata": {},
   "outputs": [],
   "source": [
    "def numpy_arg_top_k(array):\n",
    "    return (-array).argsort()[:K]"
   ]
  },
  {
   "cell_type": "code",
   "execution_count": 5,
   "metadata": {},
   "outputs": [],
   "source": [
    "array = np.array(np.random.sample((1000000,)), dtype=FLOAT_TYPE)"
   ]
  },
  {
   "cell_type": "code",
   "execution_count": 6,
   "metadata": {},
   "outputs": [
    {
     "name": "stdout",
     "output_type": "stream",
     "text": [
      "2.02 ms ± 37 µs per loop (mean ± std. dev. of 7 runs, 100 loops each)\n"
     ]
    }
   ],
   "source": [
    "time_fast = %timeit -n 100 -o fast_arg_top_k(array)"
   ]
  },
  {
   "cell_type": "code",
   "execution_count": 7,
   "metadata": {},
   "outputs": [
    {
     "name": "stdout",
     "output_type": "stream",
     "text": [
      "104 ms ± 3.99 ms per loop (mean ± std. dev. of 7 runs, 10 loops each)\n"
     ]
    }
   ],
   "source": [
    "time_numpy = %timeit -n 10 -o numpy_arg_top_k(array)"
   ]
  },
  {
   "cell_type": "code",
   "execution_count": 8,
   "metadata": {},
   "outputs": [
    {
     "name": "stdout",
     "output_type": "stream",
     "text": [
      "100% of the indices are same!\n"
     ]
    }
   ],
   "source": [
    "result_fast = sorted(fast_arg_top_k(array))\n",
    "result_numpy = sorted(numpy_arg_top_k(array))\n",
    "\n",
    "number_of_common = len(set(result_fast).intersection(result_numpy))\n",
    "percentage_of_common = round((number_of_common / K) * 100)\n",
    "\n",
    "# Could happen that there are a few exact same values in the top K\n",
    "# In that case there could be a few differences\n",
    "print(f'{percentage_of_common}% of the indices are same!')"
   ]
  },
  {
   "cell_type": "code",
   "execution_count": 9,
   "metadata": {},
   "outputs": [
    {
     "name": "stdout",
     "output_type": "stream",
     "text": [
      "\"fast_arg_top_k\" is around 50x faster than \"numpy_arg_top_k\"!\n"
     ]
    }
   ],
   "source": [
    "print(f'\"fast_arg_top_k\" is around {round(time_numpy.best / time_fast.best)}x faster than \"numpy_arg_top_k\"!')"
   ]
  }
 ],
 "metadata": {
  "kernelspec": {
   "display_name": "Python 3",
   "language": "python",
   "name": "python3"
  },
  "language_info": {
   "codemirror_mode": {
    "name": "ipython",
    "version": 3
   },
   "file_extension": ".py",
   "mimetype": "text/x-python",
   "name": "python",
   "nbconvert_exporter": "python",
   "pygments_lexer": "ipython3",
   "version": "3.7.3"
  }
 },
 "nbformat": 4,
 "nbformat_minor": 2
}
